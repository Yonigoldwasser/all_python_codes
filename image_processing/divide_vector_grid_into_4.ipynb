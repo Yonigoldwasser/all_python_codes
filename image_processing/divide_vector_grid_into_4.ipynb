{
 "cells": [
  {
   "cell_type": "code",
   "execution_count": 1,
   "id": "6c47bc4e",
   "metadata": {},
   "outputs": [],
   "source": [
    "\n",
    "import geopandas as gpd\n",
    "from shapely.geometry import Polygon\n",
    "\n",
    "def divide_polygon(polygon, state_abbreviation, original_name):\n",
    "    \"\"\"Divide a polygon into 4 equal parts and return them with state abbreviation and unique names.\"\"\"\n",
    "    minx, miny, maxx, maxy = polygon.bounds\n",
    "    midx, midy = (minx + maxx) / 2, (miny + maxy) / 2\n",
    "\n",
    "    # Define the four new polygons with state abbreviation and unique names\n",
    "    polygons = [\n",
    "        (Polygon([(minx, miny), (midx, miny), (midx, midy), (minx, midy)]), state_abbreviation, f'{original_name}1'),\n",
    "        (Polygon([(midx, miny), (maxx, miny), (maxx, midy), (midx, midy)]), state_abbreviation, f'{original_name}2'),\n",
    "        (Polygon([(minx, midy), (midx, midy), (midx, maxy), (minx, maxy)]), state_abbreviation, f'{original_name}3'),\n",
    "        (Polygon([(midx, midy), (maxx, midy), (maxx, maxy), (midx, maxy)]), state_abbreviation, f'{original_name}4')\n",
    "    ]\n",
    "    return polygons\n",
    "\n",
    "# Read the shapefile\n",
    "gdf = gpd.read_file(r\"C:\\Users\\User\\Documents\\CS_sequence_check\\CS_vector_version\\OKT32_KST6_tiles.shp\")\n",
    "\n",
    "# Divide each grid cell and retain state abbreviation and name\n",
    "new_polygons = []\n",
    "for _, row in gdf.iterrows():\n",
    "    state_abbreviation = row['stateAbb']\n",
    "    original_name = row['Name']  # Replace 'name' with the actual column name in your shapefile\n",
    "    divided_polygons = divide_polygon(row['geometry'], state_abbreviation, original_name)\n",
    "    new_polygons.extend(divided_polygons)\n",
    "\n",
    "# Create a new GeoDataFrame\n",
    "new_gdf = gpd.GeoDataFrame(new_polygons, columns=['geometry', 'stateAbb', 'Name'])\n",
    "\n",
    "# Set the CRS of the new GeoDataFrame to be the same as the original\n",
    "new_gdf.crs = gdf.crs\n",
    "\n",
    "# Save to a new shapefile\n",
    "new_gdf.to_file(r\"C:\\Users\\User\\Documents\\CS_sequence_check\\CS_vector_version\\OKT32_KST6_tiles_4split.shp\")\n",
    "\n"
   ]
  },
  {
   "cell_type": "code",
   "execution_count": null,
   "id": "be1fe3a5",
   "metadata": {},
   "outputs": [],
   "source": []
  }
 ],
 "metadata": {
  "kernelspec": {
   "display_name": "geo",
   "language": "python",
   "name": "geo"
  },
  "language_info": {
   "codemirror_mode": {
    "name": "ipython",
    "version": 3
   },
   "file_extension": ".py",
   "mimetype": "text/x-python",
   "name": "python",
   "nbconvert_exporter": "python",
   "pygments_lexer": "ipython3",
   "version": "3.9.16"
  }
 },
 "nbformat": 4,
 "nbformat_minor": 5
}
