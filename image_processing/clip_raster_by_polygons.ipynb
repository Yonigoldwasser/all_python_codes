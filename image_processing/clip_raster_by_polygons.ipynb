{
 "cells": [
  {
   "cell_type": "code",
   "execution_count": 11,
   "id": "609497ba",
   "metadata": {},
   "outputs": [
    {
     "name": "stdout",
     "output_type": "stream",
     "text": [
      "OKT14_1\n",
      "0    POLYGON ((-99.89266 34.49531, -99.89266 34.854...\n",
      "Name: geometry, dtype: geometry\n",
      "OKT14_2\n",
      "1    POLYGON ((-99.53333 34.49531, -99.53333 34.854...\n",
      "Name: geometry, dtype: geometry\n",
      "OKT14_3\n",
      "2    POLYGON ((-99.89266 34.85463, -99.89266 35.213...\n",
      "Name: geometry, dtype: geometry\n",
      "OKT14_4\n",
      "3    POLYGON ((-99.53333 34.85463, -99.53333 35.213...\n",
      "Name: geometry, dtype: geometry\n",
      "ILT29_1\n",
      "4    POLYGON ((-88.39422 40.24452, -88.39422 40.603...\n",
      "Name: geometry, dtype: geometry\n",
      "ILT29_2\n",
      "5    POLYGON ((-88.03490 40.24452, -88.03490 40.603...\n",
      "Name: geometry, dtype: geometry\n",
      "ILT29_3\n",
      "6    POLYGON ((-88.39422 40.60385, -88.39422 40.963...\n",
      "Name: geometry, dtype: geometry\n",
      "ILT29_4\n",
      "7    POLYGON ((-88.03490 40.60385, -88.03490 40.963...\n",
      "Name: geometry, dtype: geometry\n",
      "NET10_1\n",
      "8    POLYGON ((-95.58075 39.52587, -95.58075 39.885...\n",
      "Name: geometry, dtype: geometry\n",
      "NET10_2\n",
      "9    POLYGON ((-95.22142 39.52587, -95.22142 39.885...\n",
      "Name: geometry, dtype: geometry\n",
      "NET10_3\n",
      "10    POLYGON ((-95.58075 39.88520, -95.58075 40.244...\n",
      "Name: geometry, dtype: geometry\n",
      "NET10_4\n",
      "11    POLYGON ((-95.22142 39.88520, -95.22142 40.244...\n",
      "Name: geometry, dtype: geometry\n"
     ]
    }
   ],
   "source": [
    "import geopandas as gpd\n",
    "import rasterio\n",
    "from rasterio.mask import mask\n",
    "import os\n",
    "from rasterio.features import geometry_mask\n",
    "from rasterio.io import MemoryFile\n",
    "import numpy as np\n",
    "\n",
    "# Define paths to your input raster and shapefile\n",
    "input_raster_path = r\"C:\\Users\\User\\Documents\\CropScape\\CropScape2019_4326.tif\"\n",
    "shapefile_path = r\"C:\\Users\\User\\Documents\\proj4326_chosen_tiles_IL,KS,OK_divider\\proj4326_chosen_tiles_divider.shp\"\n",
    "output_folder = r\"C:\\Users\\User\\Documents\\proj4326_chosen_tiles_IL,KS,OK_divider\\clips\"\n",
    "shapefile = gpd.read_file(shapefile_path)\n",
    "for shape in shapefile['Name']:\n",
    "    print(shape)\n",
    "    name = shape\n",
    "    polygon = shapefile.loc[shapefile['Name'] == shape]['geometry']\n",
    "    print(polygon)\n",
    "    # clip cropscape to the specific tile\n",
    "    with rasterio.open(input_raster_path) as crops22:\n",
    "        out_image, out_transform = rasterio.mask.mask(crops22, polygon, crop=True)\n",
    "        out_meta = crops22.meta\n",
    "        out_meta.update({\"driver\": \"GTiff\",\n",
    "                         \"height\": out_image.shape[1],\n",
    "                         \"width\": out_image.shape[2],\n",
    "                         \"transform\": out_transform})\n",
    "\n",
    "    with rasterio.open(os.path.join(output_folder, name +\"_clip.tif\"), \"w\", **out_meta) as dst1:\n",
    "        dst1.write(out_image)\n",
    "\n",
    "\n"
   ]
  },
  {
   "cell_type": "code",
   "execution_count": null,
   "id": "acdcc5cf",
   "metadata": {},
   "outputs": [],
   "source": []
  }
 ],
 "metadata": {
  "kernelspec": {
   "display_name": "geo",
   "language": "python",
   "name": "geo"
  },
  "language_info": {
   "codemirror_mode": {
    "name": "ipython",
    "version": 3
   },
   "file_extension": ".py",
   "mimetype": "text/x-python",
   "name": "python",
   "nbconvert_exporter": "python",
   "pygments_lexer": "ipython3",
   "version": "3.9.16"
  }
 },
 "nbformat": 4,
 "nbformat_minor": 5
}
