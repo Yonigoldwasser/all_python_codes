{
 "cells": [
  {
   "cell_type": "code",
   "execution_count": 1,
   "id": "c864d613",
   "metadata": {},
   "outputs": [
    {
     "data": {
      "text/html": [
       "<p>To authorize access needed by Earth Engine, open the following\n",
       "        URL in a web browser and follow the instructions:</p>\n",
       "        <p><a href=https://code.earthengine.google.com/client-auth?scopes=https%3A//www.googleapis.com/auth/earthengine%20https%3A//www.googleapis.com/auth/devstorage.full_control&request_id=h8oT5GBDIw2_owvacs2GnRFYkSNQXIADqI1qlZPk7_4&tc=jQ63YcSPunbm3cdU22XzwTIl7UERxcMoNgGFq6JBuvM&cc=OElrNaWOU6zz0zGDkItAk8Lhg7f5_P1kecSK_CQhb2I>https://code.earthengine.google.com/client-auth?scopes=https%3A//www.googleapis.com/auth/earthengine%20https%3A//www.googleapis.com/auth/devstorage.full_control&request_id=h8oT5GBDIw2_owvacs2GnRFYkSNQXIADqI1qlZPk7_4&tc=jQ63YcSPunbm3cdU22XzwTIl7UERxcMoNgGFq6JBuvM&cc=OElrNaWOU6zz0zGDkItAk8Lhg7f5_P1kecSK_CQhb2I</a></p>\n",
       "        <p>The authorization workflow will generate a code, which you should paste in the box below.</p>\n",
       "        "
      ],
      "text/plain": [
       "<IPython.core.display.HTML object>"
      ]
     },
     "metadata": {},
     "output_type": "display_data"
    },
    {
     "name": "stdout",
     "output_type": "stream",
     "text": [
      "Enter verification code: 4/1AbUR2VNv0-8w49XFjZnZtcJW5YJuKRjLOhAaUvumbnb39xAB1BGuWhAMZSw\n",
      "\n",
      "Successfully saved authorization token.\n"
     ]
    }
   ],
   "source": [
    "import ee\n",
    "ee.Authenticate()\n",
    "ee.Initialize()\n",
    "\n",
    "\n"
   ]
  },
  {
   "cell_type": "code",
   "execution_count": null,
   "id": "60063c18",
   "metadata": {},
   "outputs": [
    {
     "name": "stdout",
     "output_type": "stream",
     "text": [
      "projects/ee-saraihananya/assets/training_NorthTexas_area_2023-04-19/OKT31_2k_balanced\n",
      "projects/ee-saraihananya/assets/training_NorthTexas_area_2023-04-19/OKT32_2k_balanced\n",
      "projects/ee-saraihananya/assets/training_NorthTexas_area_2023-04-19/OKT33_2k_balanced\n",
      "projects/ee-saraihananya/assets/training_NorthTexas_area_2023-04-19/OKT34_2k_balanced\n",
      "projects/ee-saraihananya/assets/training_NorthTexas_area_2023-04-19/TXT122_2k_balanced\n",
      "projects/ee-saraihananya/assets/training_NorthTexas_area_2023-04-19/TXT123_2k_balanced\n",
      "projects/ee-saraihananya/assets/training_NorthTexas_area_2023-04-19/TXT124_2k_balanced\n",
      "projects/ee-saraihananya/assets/training_NorthTexas_area_2023-04-19/TXT125_2k_balanced\n"
     ]
    }
   ],
   "source": [
    "\n",
    "src_folder = \"projects/ee-saraihananya/assets/training_NorthTexas_area_2023-04-19\"\n",
    "# folder where to copy\n",
    "#dest_folder = \"projects/earthengine-legacy/assets/users/username/new_folder\"\n",
    "\n",
    "# get all assets in the folder\n",
    "assets = ee.data.listAssets({'parent': src_folder})\n",
    "# loop through assets and copy them one by one to the new destination\n",
    "for asset in assets['assets']:\n",
    "    print(asset['id'])\n",
    "    # construct destination path\n",
    "    #new_asset = dest_folder + '/' + asset['id'].split('/')[-1]\n",
    "    # copy to destination\n",
    "    #ee.data.copyAsset(asset['id'], new_asset, True)\n",
    "    # delete source asset\n",
    "    ee.data.deleteAsset(asset['id'])\n",
    "\n",
    "print(\"finish\")"
   ]
  },
  {
   "cell_type": "code",
   "execution_count": null,
   "id": "ca81d4f8",
   "metadata": {},
   "outputs": [],
   "source": []
  }
 ],
 "metadata": {
  "kernelspec": {
   "display_name": "Python 3 (ipykernel)",
   "language": "python",
   "name": "python3"
  },
  "language_info": {
   "codemirror_mode": {
    "name": "ipython",
    "version": 3
   },
   "file_extension": ".py",
   "mimetype": "text/x-python",
   "name": "python",
   "nbconvert_exporter": "python",
   "pygments_lexer": "ipython3",
   "version": "3.9.13"
  }
 },
 "nbformat": 4,
 "nbformat_minor": 5
}
