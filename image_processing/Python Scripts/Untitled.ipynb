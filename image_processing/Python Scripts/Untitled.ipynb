{
 "cells": [
  {
   "cell_type": "code",
   "execution_count": 1,
   "id": "655d408e",
   "metadata": {},
   "outputs": [
    {
     "ename": "ImportError",
     "evalue": "DLL load failed while importing _base: The specified module could not be found.",
     "output_type": "error",
     "traceback": [
      "\u001b[1;31m---------------------------------------------------------------------------\u001b[0m",
      "\u001b[1;31mImportError\u001b[0m                               Traceback (most recent call last)",
      "\u001b[1;32m~\\AppData\\Local\\Temp\\ipykernel_15352\\4252008633.py\u001b[0m in \u001b[0;36m<module>\u001b[1;34m\u001b[0m\n\u001b[0;32m      2\u001b[0m \u001b[1;32mimport\u001b[0m \u001b[0mos\u001b[0m\u001b[1;33m\u001b[0m\u001b[1;33m\u001b[0m\u001b[0m\n\u001b[0;32m      3\u001b[0m \u001b[1;32mfrom\u001b[0m \u001b[0mglob\u001b[0m \u001b[1;32mimport\u001b[0m \u001b[0mglob\u001b[0m\u001b[1;33m\u001b[0m\u001b[1;33m\u001b[0m\u001b[0m\n\u001b[1;32m----> 4\u001b[1;33m \u001b[1;32mfrom\u001b[0m \u001b[0mrasterio\u001b[0m\u001b[1;33m.\u001b[0m\u001b[0mfeatures\u001b[0m \u001b[1;32mimport\u001b[0m \u001b[0msieve\u001b[0m\u001b[1;33m\u001b[0m\u001b[1;33m\u001b[0m\u001b[0m\n\u001b[0m\u001b[0;32m      5\u001b[0m \u001b[1;32mimport\u001b[0m \u001b[0mrasterio\u001b[0m\u001b[1;33m\u001b[0m\u001b[1;33m\u001b[0m\u001b[0m\n\u001b[0;32m      6\u001b[0m \u001b[1;32mimport\u001b[0m \u001b[0mnumpy\u001b[0m \u001b[1;32mas\u001b[0m \u001b[0mnp\u001b[0m\u001b[1;33m\u001b[0m\u001b[1;33m\u001b[0m\u001b[0m\n",
      "\u001b[1;32m~\\anaconda3\\lib\\site-packages\\rasterio\\__init__.py\u001b[0m in \u001b[0;36m<module>\u001b[1;34m\u001b[0m\n\u001b[0;32m      7\u001b[0m \u001b[1;32mfrom\u001b[0m \u001b[0mpathlib\u001b[0m \u001b[1;32mimport\u001b[0m \u001b[0mPath\u001b[0m\u001b[1;33m\u001b[0m\u001b[1;33m\u001b[0m\u001b[0m\n\u001b[0;32m      8\u001b[0m \u001b[1;33m\u001b[0m\u001b[0m\n\u001b[1;32m----> 9\u001b[1;33m \u001b[1;32mfrom\u001b[0m \u001b[0mrasterio\u001b[0m\u001b[1;33m.\u001b[0m\u001b[0m_base\u001b[0m \u001b[1;32mimport\u001b[0m \u001b[0mgdal_version\u001b[0m\u001b[1;33m\u001b[0m\u001b[1;33m\u001b[0m\u001b[0m\n\u001b[0m\u001b[0;32m     10\u001b[0m \u001b[1;32mfrom\u001b[0m \u001b[0mrasterio\u001b[0m\u001b[1;33m.\u001b[0m\u001b[0mdrivers\u001b[0m \u001b[1;32mimport\u001b[0m \u001b[0mdriver_from_extension\u001b[0m\u001b[1;33m,\u001b[0m \u001b[0mis_blacklisted\u001b[0m\u001b[1;33m\u001b[0m\u001b[1;33m\u001b[0m\u001b[0m\n\u001b[0;32m     11\u001b[0m from rasterio.dtypes import (\n",
      "\u001b[1;31mImportError\u001b[0m: DLL load failed while importing _base: The specified module could not be found."
     ]
    }
   ],
   "source": [
    "import logging\n",
    "import os\n",
    "from glob import glob\n",
    "from rasterio.features import sieve\n",
    "import rasterio\n",
    "import numpy as np\n",
    "import argparse\n",
    "\n",
    "\n",
    "def main():\n",
    "    parser = argparse.ArgumentParser(formatter_class=argparse.ArgumentDefaultsHelpFormatter)\n",
    "    parser.add_argument('-dir', '--directory', required=True, help='Specify directory that contains raster files')\n",
    "    parser.add_argument('-s', '--size', required=False, type=int, default=15, help='minimum size of sieve kernel')\n",
    "    parser.add_argument('-conn', '--connectivity', required=False, type=int, default=4,\n",
    "                        help='set connectivity to 4 or 8')\n",
    "    parser.add_argument('-dt', '--dtype', required=False, type=str, default='uint16', help='raster data type')\n",
    "    parser.add_argument('-f', '--from_values', required=False, nargs='+', type=int, default=[0, 1, 2, 3, 4, 5, 7],\n",
    "                        help='set from values to reclassify')\n",
    "    parser.add_argument('-t', '--to_values', required=False, nargs='+', type=int,\n",
    "                        default=[998, 41, 21, 81, 11, 81, 998],\n",
    "                        help='set to values to reclassify')\n",
    "    args = parser.parse_args()\n",
    "    saveDir = args.directory\n",
    "    files = glob(os.path.join(saveDir, '*.tif'))\n",
    "    logging.basicConfig(filename=os.path.join(saveDir, \"log.txt\"), filemode='a')\n",
    "    for file in files:\n",
    "        try:\n",
    "            raster = rasterio.open(file)\n",
    "            array = raster.read(1).astype(args.dtype)\n",
    "            profile = raster.profile\n",
    "            profile.update({\"dtype\": args.dtype})\n",
    "            out = os.path.join(saveDir, os.path.basename(file)[:-4] + '_sieve_reclass.tif')\n",
    "            array = sieve(array, size=args.size, connectivity=args.connectivity)\n",
    "            for fv, tv in zip(args.from_values, args.to_values):\n",
    "                array = np.where(array == fv, tv, array)\n",
    "            with rasterio.open(out, 'w', **profile) as out_r:\n",
    "                out_r.write(array, 1)\n",
    "                print(f\"Finished sieving & reclassifying: \\n{file} \\nto: {out}\")\n",
    "        except Exception as e:\n",
    "            print(f\"Failed to sieve & reclassify: \\n{file} \\n{e}\")\n",
    "            logging.exception(f'exception in {file} \\n{e}')\n",
    "            continue\n",
    "\n",
    "\n",
    "if __name__ == '__main__':\n",
    "    main()\n"
   ]
  },
  {
   "cell_type": "code",
   "execution_count": null,
   "id": "92b9ca63",
   "metadata": {},
   "outputs": [],
   "source": []
  }
 ],
 "metadata": {
  "kernelspec": {
   "display_name": "Python 3 (ipykernel)",
   "language": "python",
   "name": "python3"
  },
  "language_info": {
   "codemirror_mode": {
    "name": "ipython",
    "version": 3
   },
   "file_extension": ".py",
   "mimetype": "text/x-python",
   "name": "python",
   "nbconvert_exporter": "python",
   "pygments_lexer": "ipython3",
   "version": "3.9.13"
  }
 },
 "nbformat": 4,
 "nbformat_minor": 5
}
